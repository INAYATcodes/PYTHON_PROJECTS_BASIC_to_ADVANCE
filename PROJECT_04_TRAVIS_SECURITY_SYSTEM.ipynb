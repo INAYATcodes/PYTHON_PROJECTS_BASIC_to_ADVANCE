{
 "cells": [
  {
   "cell_type": "code",
   "execution_count": 1,
   "id": "7d529e40-eb4a-4eb0-be2d-3de33643bebb",
   "metadata": {},
   "outputs": [
    {
     "name": "stdout",
     "output_type": "stream",
     "text": [
      "Hi my name is TRAVIS your Security System:\n"
     ]
    },
    {
     "name": "stdin",
     "output_type": "stream",
     "text": [
      "What is your name? :  inayat\n"
     ]
    },
    {
     "name": "stdout",
     "output_type": "stream",
     "text": [
      "Welcome inayat, How are you?\n"
     ]
    },
    {
     "name": "stdin",
     "output_type": "stream",
     "text": [
      "Would you like to remove your data from the system (Y/N)?  y\n"
     ]
    },
    {
     "name": "stdout",
     "output_type": "stream",
     "text": [
      "['inayat', 'abdullha', 'sibtain', 'abehha']\n",
      "['abdullha', 'sibtain', 'abehha']\n"
     ]
    },
    {
     "name": "stdin",
     "output_type": "stream",
     "text": [
      "Would you like to exit (Y/N)?  y\n"
     ]
    }
   ],
   "source": [
    "Know_Users = [\"inayat\", \"abdullha\", \"sibtain\", \"abehha\"]\n",
    "\n",
    "while True:\n",
    "    print(\"Hi my name is TRAVIS your Security System:\")\n",
    "    Name_ENT = input(\"What is your name? : \").strip().lower()\n",
    "    if Name_ENT in Know_Users:\n",
    "        print(f\"Welcome {Name_ENT}, How are you?\")\n",
    "        Remove = input(\"Would you like to remove your data from the system (Y/N)? \").strip().lower()\n",
    "        if Remove == \"y\":\n",
    "            print(Know_Users)\n",
    "            Know_Users.remove(Name_ENT)\n",
    "            print(Know_Users)\n",
    "        exit_option = input(\"Would you like to exit (Y/N)? \").strip().lower()\n",
    "        if exit_option == \"y\":\n",
    "            break\n",
    "    else:\n",
    "        print(f\"Hmmm, I don't think I have met you yet {Name_ENT}\")\n",
    "        add_me = input(\"Would you like to be added to the system (Y/N) ?\").strip().lower()\n",
    "        if add_me == \"y\":\n",
    "            print(Know_Users)\n",
    "            Know_Users.append(Name_ENT)\n",
    "            print(Know_Users)\n",
    "        elif add_me == \"n\":\n",
    "            print(\"No problem, see you around.\")\n",
    "            break  # Exit the loop if the user chooses not to be added\n"
   ]
  },
  {
   "cell_type": "code",
   "execution_count": 2,
   "id": "83d4daf2-c7cf-4ed5-8eba-e7886f7b0a3a",
   "metadata": {},
   "outputs": [
    {
     "name": "stdout",
     "output_type": "stream",
     "text": [
      "Hi my name is TRAVIS your Security System:\n"
     ]
    },
    {
     "name": "stdin",
     "output_type": "stream",
     "text": [
      "What is your name? :  inayat\n"
     ]
    },
    {
     "name": "stdout",
     "output_type": "stream",
     "text": [
      "Welcome inayat, How are you?\n"
     ]
    },
    {
     "name": "stdin",
     "output_type": "stream",
     "text": [
      "Would you like to remove your data from the system (Y/N)?  n\n",
      "Would you like to exit (Y/N)?  y\n"
     ]
    }
   ],
   "source": [
    "Know_Users = [\"inayat\", \"abdullha\", \"sibtain\", \"abehha\"]\n",
    "\n",
    "while True:\n",
    "    print(\"Hi my name is TRAVIS your Security System:\")\n",
    "    Name_ENT = input(\"What is your name? : \").strip().lower()\n",
    "    if Name_ENT in Know_Users:\n",
    "        print(f\"Welcome {Name_ENT}, How are you?\")\n",
    "        Remove = input(\"Would you like to remove your data from the system (Y/N)? \").strip().lower()\n",
    "        if Remove == \"y\":\n",
    "            print(Know_Users)\n",
    "            Know_Users.remove(Name_ENT)\n",
    "            print(Know_Users)\n",
    "        exit_option = input(\"Would you like to exit (Y/N)? \").strip().lower()\n",
    "        if exit_option == \"y\":\n",
    "            break\n",
    "    else:\n",
    "        print(f\"Hmmm, I don't think I have met you yet {Name_ENT}\")\n",
    "        add_me = input(\"Would you like to be added to the system (Y/N) ?\").strip().lower()\n",
    "        if add_me == \"y\":\n",
    "            print(Know_Users)\n",
    "            Know_Users.append(Name_ENT)\n",
    "            print(Know_Users)\n",
    "        elif add_me == \"n\":\n",
    "            print(\"No problem, see you around.\")\n",
    "            break  # Exit the loop if the user chooses not to be added\n"
   ]
  },
  {
   "cell_type": "code",
   "execution_count": 3,
   "id": "439ae01b-5eb9-4d6e-b984-7eb6cbb53bc2",
   "metadata": {},
   "outputs": [
    {
     "name": "stdout",
     "output_type": "stream",
     "text": [
      "Hi my name is TRAVIS your Security System:\n"
     ]
    },
    {
     "name": "stdin",
     "output_type": "stream",
     "text": [
      "What is your name? :  saqlain\n"
     ]
    },
    {
     "name": "stdout",
     "output_type": "stream",
     "text": [
      "Hmmm, I don't think I have met you yet saqlain\n"
     ]
    },
    {
     "name": "stdin",
     "output_type": "stream",
     "text": [
      "Would you like to be added to the system (Y/N) ? n\n"
     ]
    },
    {
     "name": "stdout",
     "output_type": "stream",
     "text": [
      "No problem, see you around.\n"
     ]
    }
   ],
   "source": [
    "Know_Users = [\"inayat\", \"abdullha\", \"sibtain\", \"abehha\"]\n",
    "\n",
    "while True:\n",
    "    print(\"Hi my name is TRAVIS your Security System:\")\n",
    "    Name_ENT = input(\"What is your name? : \").strip().lower()\n",
    "    if Name_ENT in Know_Users:\n",
    "        print(f\"Welcome {Name_ENT}, How are you?\")\n",
    "        Remove = input(\"Would you like to remove your data from the system (Y/N)? \").strip().lower()\n",
    "        if Remove == \"y\":\n",
    "            print(Know_Users)\n",
    "            Know_Users.remove(Name_ENT)\n",
    "            print(Know_Users)\n",
    "        exit_option = input(\"Would you like to exit (Y/N)? \").strip().lower()\n",
    "        if exit_option == \"y\":\n",
    "            break\n",
    "    else:\n",
    "        print(f\"Hmmm, I don't think I have met you yet {Name_ENT}\")\n",
    "        add_me = input(\"Would you like to be added to the system (Y/N) ?\").strip().lower()\n",
    "        if add_me == \"y\":\n",
    "            print(Know_Users)\n",
    "            Know_Users.append(Name_ENT)\n",
    "            print(Know_Users)\n",
    "        elif add_me == \"n\":\n",
    "            print(\"No problem, see you around.\")\n",
    "            break  # Exit the loop if the user chooses not to be added\n"
   ]
  },
  {
   "cell_type": "code",
   "execution_count": 4,
   "id": "52e41296-bbda-4099-a6c4-06776b0c6935",
   "metadata": {},
   "outputs": [
    {
     "name": "stdout",
     "output_type": "stream",
     "text": [
      "Hi my name is TRAVIS your Security System:\n"
     ]
    },
    {
     "name": "stdin",
     "output_type": "stream",
     "text": [
      "What is your name? :  saqlain\n"
     ]
    },
    {
     "name": "stdout",
     "output_type": "stream",
     "text": [
      "Hmmm, I don't think I have met you yet saqlain\n"
     ]
    },
    {
     "name": "stdin",
     "output_type": "stream",
     "text": [
      "Would you like to be added to the system (Y/N) ? y\n"
     ]
    },
    {
     "name": "stdout",
     "output_type": "stream",
     "text": [
      "['inayat', 'abdullha', 'sibtain', 'abehha']\n",
      "['inayat', 'abdullha', 'sibtain', 'abehha', 'saqlain']\n",
      "Hi my name is TRAVIS your Security System:\n"
     ]
    },
    {
     "name": "stdin",
     "output_type": "stream",
     "text": [
      "What is your name? :  kk\n"
     ]
    },
    {
     "name": "stdout",
     "output_type": "stream",
     "text": [
      "Hmmm, I don't think I have met you yet kk\n"
     ]
    },
    {
     "name": "stdin",
     "output_type": "stream",
     "text": [
      "Would you like to be added to the system (Y/N) ? n\n"
     ]
    },
    {
     "name": "stdout",
     "output_type": "stream",
     "text": [
      "No problem, see you around.\n"
     ]
    }
   ],
   "source": [
    "Know_Users = [\"inayat\", \"abdullha\", \"sibtain\", \"abehha\"]\n",
    "\n",
    "while True:\n",
    "    print(\"Hi my name is TRAVIS your Security System:\")\n",
    "    Name_ENT = input(\"What is your name? : \").strip().lower()\n",
    "    if Name_ENT in Know_Users:\n",
    "        print(f\"Welcome {Name_ENT}, How are you?\")\n",
    "        Remove = input(\"Would you like to remove your data from the system (Y/N)? \").strip().lower()\n",
    "        if Remove == \"y\":\n",
    "            print(Know_Users)\n",
    "            Know_Users.remove(Name_ENT)\n",
    "            print(Know_Users)\n",
    "        exit_option = input(\"Would you like to exit (Y/N)? \").strip().lower()\n",
    "        if exit_option == \"y\":\n",
    "            break\n",
    "    else:\n",
    "        print(f\"Hmmm, I don't think I have met you yet {Name_ENT}\")\n",
    "        add_me = input(\"Would you like to be added to the system (Y/N) ?\").strip().lower()\n",
    "        if add_me == \"y\":\n",
    "            print(Know_Users)\n",
    "            Know_Users.append(Name_ENT)\n",
    "            print(Know_Users)\n",
    "        elif add_me == \"n\":\n",
    "            print(\"No problem, see you around.\")\n",
    "            break  # Exit the loop if the user chooses not to be added\n"
   ]
  },
  {
   "cell_type": "code",
   "execution_count": 5,
   "id": "bebd1589-6463-4d7a-bd09-39201bd6a440",
   "metadata": {},
   "outputs": [
    {
     "name": "stdout",
     "output_type": "stream",
     "text": [
      "Hi my name is TRAVIS your Security System:\n"
     ]
    },
    {
     "name": "stdin",
     "output_type": "stream",
     "text": [
      "What is your name? :  saqlain\n"
     ]
    },
    {
     "name": "stdout",
     "output_type": "stream",
     "text": [
      "Hmmm, I don't think I have met you yet saqlain\n"
     ]
    },
    {
     "name": "stdin",
     "output_type": "stream",
     "text": [
      "Would you like to be added to the system (Y/N) ? y\n"
     ]
    },
    {
     "name": "stdout",
     "output_type": "stream",
     "text": [
      "['inayat', 'abdullha', 'sibtain', 'abehha']\n",
      "['inayat', 'abdullha', 'sibtain', 'abehha', 'saqlain']\n"
     ]
    }
   ],
   "source": [
    "Know_Users = [\"inayat\", \"abdullha\", \"sibtain\", \"abehha\"]\n",
    "\n",
    "while True:\n",
    "    print(\"Hi my name is TRAVIS your Security System:\")\n",
    "    Name_ENT = input(\"What is your name? : \").strip().lower()\n",
    "    if Name_ENT in Know_Users:\n",
    "        print(f\"Welcome {Name_ENT}, How are you?\")\n",
    "        Remove = input(\"Would you like to remove your data from the system (Y/N)? \").strip().lower()\n",
    "        if Remove == \"y\":\n",
    "            print(Know_Users)\n",
    "            Know_Users.remove(Name_ENT)\n",
    "            print(Know_Users)\n",
    "        exit_option = input(\"Would you like to exit (Y/N)? \").strip().lower()\n",
    "        if exit_option == \"y\":\n",
    "            break\n",
    "    else:\n",
    "        print(f\"Hmmm, I don't think I have met you yet {Name_ENT}\")\n",
    "        add_me = input(\"Would you like to be added to the system (Y/N) ?\").strip().lower()\n",
    "        if add_me == \"y\":\n",
    "            print(Know_Users)\n",
    "            Know_Users.append(Name_ENT)\n",
    "            print(Know_Users)\n",
    "            break  # Exit the loop after adding the user to the system\n",
    "        elif add_me == \"n\":\n",
    "            print(\"No problem, see you around.\")\n",
    "            break  # Exit the loop if the user chooses not to be added\n"
   ]
  },
  {
   "cell_type": "code",
   "execution_count": null,
   "id": "3e00de79-1515-4a35-9316-07ff9964da15",
   "metadata": {},
   "outputs": [],
   "source": []
  }
 ],
 "metadata": {
  "kernelspec": {
   "display_name": "Python 3 (ipykernel)",
   "language": "python",
   "name": "python3"
  },
  "language_info": {
   "codemirror_mode": {
    "name": "ipython",
    "version": 3
   },
   "file_extension": ".py",
   "mimetype": "text/x-python",
   "name": "python",
   "nbconvert_exporter": "python",
   "pygments_lexer": "ipython3",
   "version": "3.12.3"
  }
 },
 "nbformat": 4,
 "nbformat_minor": 5
}
