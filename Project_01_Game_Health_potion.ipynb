{
 "cells": [
  {
   "cell_type": "code",
   "execution_count": 2,
   "id": "169dc3d1-4b47-491f-872a-6b6831e1450c",
   "metadata": {},
   "outputs": [
    {
     "name": "stdout",
     "output_type": "stream",
     "text": [
      "FINAL HEALTH AFTER POTION IS --> 85\n"
     ]
    }
   ],
   "source": [
    "import random\n",
    "Player_Health = 50\n",
    "Potion_Health = random.randint(25,50)\n",
    "Health_After_Potion = Player_Health + Potion_Health\n",
    "print(f\"FINAL HEALTH AFTER POTION IS --> {Health_After_Potion}\")"
   ]
  },
  {
   "cell_type": "code",
   "execution_count": null,
   "id": "4dfb6fa2-55cf-4d09-87b5-6edafc2b4126",
   "metadata": {},
   "outputs": [],
   "source": []
  },
  {
   "cell_type": "code",
   "execution_count": 3,
   "id": "d58ddd01-32b3-41ad-8872-129cc4ad6816",
   "metadata": {},
   "outputs": [
    {
     "name": "stdout",
     "output_type": "stream",
     "text": [
      "FINAL HEALTH AFTER POTION IS --> 75\n"
     ]
    }
   ],
   "source": [
    "import random\n",
    "Player_Health = 50\n",
    "Potion_Health = random.randint(25,50)\n",
    "Health_After_Potion = Player_Health + Potion_Health\n",
    "print(f\"FINAL HEALTH AFTER POTION IS --> {Health_After_Potion}\")"
   ]
  },
  {
   "cell_type": "code",
   "execution_count": null,
   "id": "4cd92acc-6aa0-47ff-85b9-3baa1c92094c",
   "metadata": {},
   "outputs": [],
   "source": []
  },
  {
   "cell_type": "code",
   "execution_count": 4,
   "id": "9a2ee9ac-d327-45a7-a369-de3b61ff3181",
   "metadata": {},
   "outputs": [
    {
     "name": "stdout",
     "output_type": "stream",
     "text": [
      "FINAL HEALTH AFTER POTION IS --> 95\n"
     ]
    }
   ],
   "source": [
    "import random\n",
    "Player_Health = 50\n",
    "Potion_Health = random.randint(25,50)\n",
    "Health_After_Potion = Player_Health + Potion_Health\n",
    "print(f\"FINAL HEALTH AFTER POTION IS --> {Health_After_Potion}\")"
   ]
  },
  {
   "cell_type": "code",
   "execution_count": 5,
   "id": "20c7117f-2140-4bf6-ac30-6ec5263f6a96",
   "metadata": {},
   "outputs": [
    {
     "name": "stdout",
     "output_type": "stream",
     "text": [
      "FINAL HEALTH AFTER POTION IS --> 87\n"
     ]
    }
   ],
   "source": [
    "import random\n",
    "Player_Health = 50\n",
    "Potion_Health = random.randint(25,50)\n",
    "Health_After_Potion = Player_Health + Potion_Health\n",
    "print(f\"FINAL HEALTH AFTER POTION IS --> {Health_After_Potion}\")"
   ]
  },
  {
   "cell_type": "code",
   "execution_count": 6,
   "id": "b4ab9a34-05e4-4b31-b573-64d83ce936fd",
   "metadata": {},
   "outputs": [
    {
     "name": "stdout",
     "output_type": "stream",
     "text": [
      "FINAL HEALTH AFTER POTION IS --> 80\n"
     ]
    }
   ],
   "source": [
    "import random\n",
    "Player_Health = 50\n",
    "Potion_Health = random.randint(25,50)\n",
    "Health_After_Potion = Player_Health + Potion_Health\n",
    "print(f\"FINAL HEALTH AFTER POTION IS --> {Health_After_Potion}\")"
   ]
  },
  {
   "cell_type": "code",
   "execution_count": 7,
   "id": "df74b6af-9f6a-42fc-a2c9-ad3f1dfe0df6",
   "metadata": {},
   "outputs": [
    {
     "name": "stdout",
     "output_type": "stream",
     "text": [
      "FINAL HEALTH AFTER POTION IS --> 85\n"
     ]
    }
   ],
   "source": [
    "import random\n",
    "Player_Health = 50\n",
    "Potion_Health = random.randint(25,50)\n",
    "Health_After_Potion = Player_Health + Potion_Health\n",
    "print(f\"FINAL HEALTH AFTER POTION IS --> {Health_After_Potion}\")"
   ]
  },
  {
   "cell_type": "code",
   "execution_count": 8,
   "id": "be8a288b-768b-49a6-8041-c1f92cd59a49",
   "metadata": {},
   "outputs": [
    {
     "name": "stdout",
     "output_type": "stream",
     "text": [
      "FINAL HEALTH AFTER POTION IS --> 86\n"
     ]
    }
   ],
   "source": [
    "import random\n",
    "Player_Health = 50\n",
    "Potion_Health = random.randint(25,50)\n",
    "Health_After_Potion = Player_Health + Potion_Health\n",
    "print(f\"FINAL HEALTH AFTER POTION IS --> {Health_After_Potion}\")"
   ]
  },
  {
   "cell_type": "code",
   "execution_count": 9,
   "id": "78279a7f-63d2-4f6a-ab35-e370b8ac494e",
   "metadata": {},
   "outputs": [
    {
     "name": "stdout",
     "output_type": "stream",
     "text": [
      "FINAL HEALTH AFTER POTION IS --> 83\n"
     ]
    }
   ],
   "source": [
    "import random\n",
    "Player_Health = 50\n",
    "Potion_Health = random.randint(25,50)\n",
    "Health_After_Potion = Player_Health + Potion_Health\n",
    "print(f\"FINAL HEALTH AFTER POTION IS --> {Health_After_Potion}\")"
   ]
  },
  {
   "cell_type": "code",
   "execution_count": 10,
   "id": "e013d8f6-5b6a-42f5-a63b-a9d41c7500f3",
   "metadata": {},
   "outputs": [
    {
     "name": "stdout",
     "output_type": "stream",
     "text": [
      "FINAL HEALTH AFTER POTION IS --> 87\n"
     ]
    }
   ],
   "source": [
    "import random\n",
    "Player_Health = 50\n",
    "Potion_Health = random.randint(25,50)\n",
    "Health_After_Potion = Player_Health + Potion_Health\n",
    "print(f\"FINAL HEALTH AFTER POTION IS --> {Health_After_Potion}\")"
   ]
  },
  {
   "cell_type": "code",
   "execution_count": 11,
   "id": "920d1e1c-fd19-4c88-8c42-9be66195f950",
   "metadata": {},
   "outputs": [
    {
     "name": "stdout",
     "output_type": "stream",
     "text": [
      "FINAL HEALTH AFTER POTION IS --> 99\n"
     ]
    }
   ],
   "source": [
    "import random\n",
    "Player_Health = 50\n",
    "Potion_Health = random.randint(25,50)\n",
    "Health_After_Potion = Player_Health + Potion_Health\n",
    "print(f\"FINAL HEALTH AFTER POTION IS --> {Health_After_Potion}\")"
   ]
  },
  {
   "cell_type": "code",
   "execution_count": 12,
   "id": "a967eaa5-6ebf-4322-8e58-7e563f3b21e6",
   "metadata": {},
   "outputs": [
    {
     "name": "stdout",
     "output_type": "stream",
     "text": [
      "FINAL HEALTH AFTER POTION IS --> 95\n"
     ]
    }
   ],
   "source": [
    "import random\n",
    "Player_Health = 50\n",
    "Potion_Health = random.randint(25,50)\n",
    "Health_After_Potion = Player_Health + Potion_Health\n",
    "print(f\"FINAL HEALTH AFTER POTION IS --> {Health_After_Potion}\")"
   ]
  },
  {
   "cell_type": "code",
   "execution_count": 13,
   "id": "976aaf16-f6cc-483e-aab6-6221b2fe9f70",
   "metadata": {},
   "outputs": [
    {
     "name": "stdout",
     "output_type": "stream",
     "text": [
      "FINAL HEALTH AFTER POTION IS --> 92\n"
     ]
    }
   ],
   "source": [
    "import random\n",
    "Player_Health = 50\n",
    "Potion_Health = random.randint(25,50)\n",
    "Health_After_Potion = Player_Health + Potion_Health\n",
    "print(f\"FINAL HEALTH AFTER POTION IS --> {Health_After_Potion}\")"
   ]
  },
  {
   "cell_type": "code",
   "execution_count": 14,
   "id": "17e94348-a872-4c44-8b5b-2d815c67a8e3",
   "metadata": {},
   "outputs": [
    {
     "name": "stdout",
     "output_type": "stream",
     "text": [
      "FINAL HEALTH AFTER POTION IS --> 84\n"
     ]
    }
   ],
   "source": [
    "import random\n",
    "Player_Health = 50\n",
    "Potion_Health = random.randint(25,50)\n",
    "Health_After_Potion = Player_Health + Potion_Health\n",
    "print(f\"FINAL HEALTH AFTER POTION IS --> {Health_After_Potion}\")"
   ]
  },
  {
   "cell_type": "code",
   "execution_count": 15,
   "id": "cc17dbfb-2495-4ea8-a7fc-88c6c224ac7f",
   "metadata": {},
   "outputs": [
    {
     "name": "stdout",
     "output_type": "stream",
     "text": [
      "FINAL HEALTH AFTER POTION IS --> 98\n"
     ]
    }
   ],
   "source": [
    "import random\n",
    "Player_Health = 50\n",
    "Potion_Health = random.randint(25,50)\n",
    "Health_After_Potion = Player_Health + Potion_Health\n",
    "print(f\"FINAL HEALTH AFTER POTION IS --> {Health_After_Potion}\")"
   ]
  },
  {
   "cell_type": "code",
   "execution_count": 16,
   "id": "8bbef5cf-57ef-4bb9-8a83-2ec9c8fd9562",
   "metadata": {},
   "outputs": [
    {
     "name": "stdout",
     "output_type": "stream",
     "text": [
      "FINAL HEALTH AFTER POTION IS --> 82\n"
     ]
    }
   ],
   "source": [
    "import random\n",
    "Player_Health = 50\n",
    "Potion_Health = random.randint(25,50)\n",
    "Health_After_Potion = Player_Health + Potion_Health\n",
    "print(f\"FINAL HEALTH AFTER POTION IS --> {Health_After_Potion}\")"
   ]
  },
  {
   "cell_type": "code",
   "execution_count": 17,
   "id": "6c61d087-e810-4112-b270-1eef124ecb43",
   "metadata": {},
   "outputs": [
    {
     "name": "stdout",
     "output_type": "stream",
     "text": [
      "FINAL HEALTH AFTER POTION IS --> 76\n"
     ]
    }
   ],
   "source": [
    "import random\n",
    "Player_Health = 50\n",
    "Difficulty = 1\n",
    "Potion_Health = int(random.randint(25,50) / Difficulty)\n",
    "Health_After_Potion = Player_Health + Potion_Health\n",
    "print(f\"FINAL HEALTH AFTER POTION IS --> {Health_After_Potion}\")"
   ]
  },
  {
   "cell_type": "code",
   "execution_count": 18,
   "id": "abf018d4-c6c5-4b7f-ad4a-5b276f717fe7",
   "metadata": {},
   "outputs": [
    {
     "name": "stdout",
     "output_type": "stream",
     "text": [
      "FINAL HEALTH AFTER POTION IS --> 80\n"
     ]
    }
   ],
   "source": [
    "import random\n",
    "Player_Health = 50\n",
    "Difficulty = 1\n",
    "Potion_Health = int(random.randint(25,50) / Difficulty)\n",
    "Health_After_Potion = Player_Health + Potion_Health\n",
    "print(f\"FINAL HEALTH AFTER POTION IS --> {Health_After_Potion}\")"
   ]
  },
  {
   "cell_type": "code",
   "execution_count": 19,
   "id": "7898f2cb-d7ce-4c16-b576-627ca06184ea",
   "metadata": {},
   "outputs": [
    {
     "name": "stdout",
     "output_type": "stream",
     "text": [
      "FINAL HEALTH AFTER POTION IS --> 80\n"
     ]
    }
   ],
   "source": [
    "import random\n",
    "Player_Health = 50\n",
    "Difficulty = 1\n",
    "Potion_Health = int(random.randint(25,50) / Difficulty)\n",
    "Health_After_Potion = Player_Health + Potion_Health\n",
    "print(f\"FINAL HEALTH AFTER POTION IS --> {Health_After_Potion}\")"
   ]
  },
  {
   "cell_type": "code",
   "execution_count": 20,
   "id": "29477095-9059-4017-8298-80f55c6fa899",
   "metadata": {},
   "outputs": [
    {
     "name": "stdout",
     "output_type": "stream",
     "text": [
      "FINAL HEALTH AFTER POTION IS --> 97\n"
     ]
    }
   ],
   "source": [
    "import random\n",
    "\n",
    "Player_Health = 50\n",
    "Difficulty = 1\n",
    "\n",
    "# sure that the difficulty level is not zero\n",
    "if Difficulty != 0:\n",
    "    # health gained from consuming a health potion\n",
    "    Potion_Health = int(random.randint(25, 50) / Difficulty)\n",
    "else:\n",
    "    # Set potion health to a default value if difficulty is zero\n",
    "    Potion_Health = 0\n",
    "\n",
    "# If the potion health is zero, tell the player\n",
    "if Potion_Health == 0:\n",
    "    print(\"The potion had no effect on your health.\")\n",
    "\n",
    "# player's health after consuming the potion\n",
    "Health_After_Potion = Player_Health + Potion_Health\n",
    "\n",
    "print(f\"FINAL HEALTH AFTER POTION IS --> {Health_After_Potion}\")\n"
   ]
  },
  {
   "cell_type": "code",
   "execution_count": null,
   "id": "dca2269e-29b9-4afc-ad01-00ee27407661",
   "metadata": {},
   "outputs": [],
   "source": []
  }
 ],
 "metadata": {
  "kernelspec": {
   "display_name": "Python 3 (ipykernel)",
   "language": "python",
   "name": "python3"
  },
  "language_info": {
   "codemirror_mode": {
    "name": "ipython",
    "version": 3
   },
   "file_extension": ".py",
   "mimetype": "text/x-python",
   "name": "python",
   "nbconvert_exporter": "python",
   "pygments_lexer": "ipython3",
   "version": "3.12.3"
  }
 },
 "nbformat": 4,
 "nbformat_minor": 5
}
