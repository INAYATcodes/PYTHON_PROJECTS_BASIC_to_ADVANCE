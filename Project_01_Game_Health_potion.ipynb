{
 "cells": [
  {
   "cell_type": "code",
   "execution_count": null,
   "id": "169dc3d1-4b47-491f-872a-6b6831e1450c",
   "metadata": {},
   "outputs": [],
   "source": [
    "import random\n",
    "Player_Health = 50\n",
    "Potion_Health = random.randint(25,50)\n",
    "Health_After_Potion = Player_Health + Potion_Health\n",
    "print(f\"FINAL HEALTH AFTER POTION IS --> {Health_After_Potion}\")"
   ]
  }
 ],
 "metadata": {
  "kernelspec": {
   "display_name": "Python 3 (ipykernel)",
   "language": "python",
   "name": "python3"
  },
  "language_info": {
   "codemirror_mode": {
    "name": "ipython",
    "version": 3
   },
   "file_extension": ".py",
   "mimetype": "text/x-python",
   "name": "python",
   "nbconvert_exporter": "python",
   "pygments_lexer": "ipython3",
   "version": "3.12.3"
  }
 },
 "nbformat": 4,
 "nbformat_minor": 5
}
