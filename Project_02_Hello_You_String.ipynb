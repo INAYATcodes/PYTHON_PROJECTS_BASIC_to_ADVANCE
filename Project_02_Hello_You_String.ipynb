{
 "cells": [
  {
   "cell_type": "code",
   "execution_count": 1,
   "id": "bec53580-1727-4ede-8255-0d7d9fa17932",
   "metadata": {},
   "outputs": [
    {
     "name": "stdin",
     "output_type": "stream",
     "text": [
      "What is your name?   INAYAT HUSSAIN\n",
      "What is you age?   25\n",
      "what city do you live in?   Delhi\n",
      "What do you love doing?   Teaching python\n"
     ]
    },
    {
     "name": "stdout",
     "output_type": "stream",
     "text": [
      "Your name is INAYAT HUSSAIN and age 25 you live in Delhi Your hobby is Teaching python\n"
     ]
    }
   ],
   "source": [
    "Name = input(\"What is your name?  \")\n",
    "Age = input(\"What is your age? \")\n",
    "Age_INT_Value = int(Age)\n",
    "City = input(\"what city do you live in?  \")\n",
    "Love = input(\"What do you love doing?  \")\n",
    "Output = (f\"Your name is {Name} and age {Age} you live in {City} Your hobby is {Love}\")\n",
    "print(Output)"
   ]
  },
  {
   "cell_type": "code",
   "execution_count": 2,
   "id": "546048f9-2366-4f7c-879d-57544c86aeaf",
   "metadata": {},
   "outputs": [
    {
     "name": "stdout",
     "output_type": "stream",
     "text": [
      "<class 'str'>\n"
     ]
    }
   ],
   "source": [
    "print(type(Age))"
   ]
  },
  {
   "cell_type": "code",
   "execution_count": 3,
   "id": "55676d7a-5c51-45a8-a726-b8205bb3572c",
   "metadata": {},
   "outputs": [
    {
     "name": "stdout",
     "output_type": "stream",
     "text": [
      "<class 'str'>\n"
     ]
    }
   ],
   "source": [
    "print(type(Age))"
   ]
  },
  {
   "cell_type": "code",
   "execution_count": 4,
   "id": "7f70fbf3-9e3b-4727-8de3-30cb732f651f",
   "metadata": {},
   "outputs": [
    {
     "name": "stdout",
     "output_type": "stream",
     "text": [
      "<class 'str'>\n"
     ]
    }
   ],
   "source": [
    "print(type(Age))"
   ]
  },
  {
   "cell_type": "code",
   "execution_count": 5,
   "id": "7947ba12-31b5-4a45-a052-f3c305a1db27",
   "metadata": {},
   "outputs": [
    {
     "name": "stdout",
     "output_type": "stream",
     "text": [
      "<class 'str'>\n"
     ]
    }
   ],
   "source": [
    "print(type(Age))"
   ]
  },
  {
   "cell_type": "code",
   "execution_count": 6,
   "id": "71a2623a-6162-46eb-95d0-2ed79bdbe56a",
   "metadata": {},
   "outputs": [
    {
     "name": "stdin",
     "output_type": "stream",
     "text": [
      "What is your name?   inayat\n",
      "What is your age?  25\n",
      "what city do you live in?   balagaht\n",
      "What do you love doing?   game\n"
     ]
    },
    {
     "name": "stdout",
     "output_type": "stream",
     "text": [
      "Your name is inayat and age 25 you live in balagaht Your hobby is game\n"
     ]
    }
   ],
   "source": [
    "Name = input(\"What is your name?  \")\n",
    "Age = input(\"What is your age? \")\n",
    "Age_INT_Value = int(Age)\n",
    "City = input(\"what city do you live in?  \")\n",
    "Love = input(\"What do you love doing?  \")\n",
    "Output = (f\"Your name is {Name} and age {Age} you live in {City} Your hobby is {Love}\")\n",
    "print(Output)\n"
   ]
  },
  {
   "cell_type": "code",
   "execution_count": 7,
   "id": "ee988138-f114-46da-b90f-44bd0cbbb696",
   "metadata": {},
   "outputs": [
    {
     "name": "stdout",
     "output_type": "stream",
     "text": [
      "<class 'int'>\n"
     ]
    }
   ],
   "source": [
    "print(type(Age_INT_Value))"
   ]
  },
  {
   "cell_type": "code",
   "execution_count": 8,
   "id": "978535be-96ce-4b70-bf64-54ad1d7fe32e",
   "metadata": {},
   "outputs": [
    {
     "name": "stdin",
     "output_type": "stream",
     "text": [
      "What is your name?   INAYAT HUSSAIN\n",
      "What is your age?  25\n",
      "what city do you live in?   DELHI\n",
      "What do you love doing?   TEACHING PYTHON\n"
     ]
    },
    {
     "name": "stdout",
     "output_type": "stream",
     "text": [
      "Your name is INAYAT HUSSAIN and age 25 you live in DELHI Your hobby is TEACHING PYTHON\n"
     ]
    }
   ],
   "source": [
    "Name = input(\"What is your name?  \")\n",
    "Age = input(\"What is your age? \")\n",
    "Age_INT_Value = int(Age)\n",
    "City = input(\"what city do you live in?  \")\n",
    "Love = input(\"What do you love doing?  \")\n",
    "Output = (f\"Your name is {Name} and age {Age} you live in {City} Your hobby is {Love}\")\n",
    "print(Output)\n"
   ]
  },
  {
   "cell_type": "code",
   "execution_count": null,
   "id": "9de9b31b-009d-4c2d-9f9f-9b23f0271a1e",
   "metadata": {},
   "outputs": [],
   "source": []
  }
 ],
 "metadata": {
  "kernelspec": {
   "display_name": "Python 3 (ipykernel)",
   "language": "python",
   "name": "python3"
  },
  "language_info": {
   "codemirror_mode": {
    "name": "ipython",
    "version": 3
   },
   "file_extension": ".py",
   "mimetype": "text/x-python",
   "name": "python",
   "nbconvert_exporter": "python",
   "pygments_lexer": "ipython3",
   "version": "3.12.3"
  }
 },
 "nbformat": 4,
 "nbformat_minor": 5
}
