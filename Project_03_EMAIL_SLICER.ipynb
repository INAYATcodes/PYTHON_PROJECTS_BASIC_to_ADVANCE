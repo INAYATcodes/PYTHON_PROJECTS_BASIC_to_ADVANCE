{
 "cells": [
  {
   "cell_type": "code",
   "execution_count": 2,
   "id": "e12198b8-cab0-40ee-8a15-d748adcd49c5",
   "metadata": {},
   "outputs": [
    {
     "name": "stdin",
     "output_type": "stream",
     "text": [
      "Please Enter Email Address? :   INAYATHUSSAIN@GMAIL.COM\n"
     ]
    },
    {
     "name": "stdout",
     "output_type": "stream",
     "text": [
      "Hello INAYATHUSSAIN and you login with this email INAYATHUSSAIN@GMAIL.COM and your domain is GMAIL.COM\n"
     ]
    }
   ],
   "source": [
    "Email_add = input(\"Please Enter Email Address? :  \").strip()\n",
    "User = Email_add[:Email_add.index(\"@\")]\n",
    "Domain = Email_add[Email_add.index(\"@\") + 1:]\n",
    "print(f\"Hello {User} and you login with this email {Email_add} and your domain is {Domain}\")\n"
   ]
  },
  {
   "cell_type": "code",
   "execution_count": null,
   "id": "66e5ca19-204b-4866-83c6-934d71f48de8",
   "metadata": {},
   "outputs": [],
   "source": []
  }
 ],
 "metadata": {
  "kernelspec": {
   "display_name": "Python 3 (ipykernel)",
   "language": "python",
   "name": "python3"
  },
  "language_info": {
   "codemirror_mode": {
    "name": "ipython",
    "version": 3
   },
   "file_extension": ".py",
   "mimetype": "text/x-python",
   "name": "python",
   "nbconvert_exporter": "python",
   "pygments_lexer": "ipython3",
   "version": "3.12.3"
  }
 },
 "nbformat": 4,
 "nbformat_minor": 5
}
