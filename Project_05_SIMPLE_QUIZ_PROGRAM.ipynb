{
 "cells": [
  {
   "cell_type": "code",
   "execution_count": 1,
   "id": "fd69a024-dc83-4b0a-8322-eb05e0f3e4df",
   "metadata": {},
   "outputs": [
    {
     "name": "stdout",
     "output_type": "stream",
     "text": [
      "THIS IS SIMPLE QUIZ PYTHON PROGRAM\n"
     ]
    }
   ],
   "source": [
    "print(\"THIS IS SIMPLE QUIZ PYTHON PROGRAM\")"
   ]
  },
  {
   "cell_type": "code",
   "execution_count": 3,
   "id": "5006e0ae-2181-4018-b104-4e3c331d7797",
   "metadata": {},
   "outputs": [
    {
     "name": "stdout",
     "output_type": "stream",
     "text": [
      "PYTHON QUIZ 2024\n",
      "___________________________________________________\n",
      "Question 1: What is the largest mammal in the world?\n",
      "A. Blue Whale\n",
      "B. African Elephant\n",
      "C. Polar Bear\n",
      "D. Giraffe\n"
     ]
    },
    {
     "name": "stdin",
     "output_type": "stream",
     "text": [
      "ENTER YOUR ANSWER for Question 1:  a\n"
     ]
    },
    {
     "name": "stdout",
     "output_type": "stream",
     "text": [
      "Correct Answer\n",
      "_________________________________________________________\n",
      "Question 2: Who wrote the famous play 'Romeo and Juliet'?\n",
      "A. William Shakespeare\n",
      "B. Jane Austen\n",
      "C. Charles Dickens\n",
      "D. Mark Twain\n"
     ]
    },
    {
     "name": "stdin",
     "output_type": "stream",
     "text": [
      "ENTER YOUR ANSWER for Question 2:  a\n"
     ]
    },
    {
     "name": "stdout",
     "output_type": "stream",
     "text": [
      "Correct Answer\n",
      "_________________________________________________________\n",
      "Question 3: What is the chemical symbol for gold?\n",
      "A. Au\n",
      "B. Ag\n",
      "C. Fe\n",
      "D. Pb\n"
     ]
    },
    {
     "name": "stdin",
     "output_type": "stream",
     "text": [
      "ENTER YOUR ANSWER for Question 3:  b\n"
     ]
    },
    {
     "name": "stdout",
     "output_type": "stream",
     "text": [
      "Incorrect! The Correct answer is: A\n",
      "_________________________________________________________\n",
      "Question 4: How many continents are there in the world?\n",
      "A. 5\n",
      "B. 6\n",
      "C. 7\n",
      "D. 8\n"
     ]
    },
    {
     "name": "stdin",
     "output_type": "stream",
     "text": [
      "ENTER YOUR ANSWER for Question 4:  d\n"
     ]
    },
    {
     "name": "stdout",
     "output_type": "stream",
     "text": [
      "Incorrect! The Correct answer is: B\n",
      "_________________________________________________________\n",
      "Question 5: What is the tallest mountain in the world?\n",
      "A. Mount Everest\n",
      "B. K2\n",
      "C. Mount Kilimanjaro\n",
      "D. Mount Fuji\n"
     ]
    },
    {
     "name": "stdin",
     "output_type": "stream",
     "text": [
      "ENTER YOUR ANSWER for Question 5:  a\n"
     ]
    },
    {
     "name": "stdout",
     "output_type": "stream",
     "text": [
      "Correct Answer\n",
      "_________________________________________________________\n",
      "Your Score: 3 Out of 5\n"
     ]
    }
   ],
   "source": [
    "Game_Name = \"PYTHON QUIZ 2024\"\n",
    "\n",
    "Questions = [\n",
    "    \"What is the largest mammal in the world?\",\n",
    "    \"Who wrote the famous play 'Romeo and Juliet'?\",\n",
    "    \"What is the chemical symbol for gold?\",\n",
    "    \"How many continents are there in the world?\",\n",
    "    \"What is the tallest mountain in the world?\"\n",
    "]\n",
    "\n",
    "Questions_Options = [\n",
    "    [\"A. Blue Whale\", \"B. African Elephant\", \"C. Polar Bear\", \"D. Giraffe\"],\n",
    "    [\"A. William Shakespeare\", \"B. Jane Austen\", \"C. Charles Dickens\", \"D. Mark Twain\"],\n",
    "    [\"A. Au\", \"B. Ag\", \"C. Fe\", \"D. Pb\"],\n",
    "    [\"A. 5\", \"B. 6\", \"C. 7\", \"D. 8\"],\n",
    "    [\"A. Mount Everest\", \"B. K2\", \"C. Mount Kilimanjaro\", \"D. Mount Fuji\"]\n",
    "]\n",
    "\n",
    "Correct_Answers = [\"A\", \"A\", \"A\", \"B\", \"A\"]\n",
    "\n",
    "print(Game_Name)\n",
    "print(\"___________________________________________________\")\n",
    "score = 0\n",
    "\n",
    "for i in range(len(Questions)):\n",
    "    print(f\"Question {i+1}: {Questions[i]}\")\n",
    "    for option in Questions_Options[i]:\n",
    "        print(option)\n",
    "\n",
    "    User_Answer = input(f\"ENTER YOUR ANSWER for Question {i+1}: \").upper()\n",
    "\n",
    "    if User_Answer == Correct_Answers[i]:\n",
    "        print(\"Correct Answer\")\n",
    "        score += 1\n",
    "    else:\n",
    "        print(\"Incorrect! The Correct answer is:\", Correct_Answers[i])\n",
    "\n",
    "    print(\"_________________________________________________________\")\n",
    "\n",
    "print(\"Your Score:\", score, \"Out of\", len(Questions))\n"
   ]
  },
  {
   "cell_type": "code",
   "execution_count": null,
   "id": "ef1c5bb9-63c5-48f5-b886-a038c685f617",
   "metadata": {},
   "outputs": [],
   "source": []
  }
 ],
 "metadata": {
  "kernelspec": {
   "display_name": "Python 3 (ipykernel)",
   "language": "python",
   "name": "python3"
  },
  "language_info": {
   "codemirror_mode": {
    "name": "ipython",
    "version": 3
   },
   "file_extension": ".py",
   "mimetype": "text/x-python",
   "name": "python",
   "nbconvert_exporter": "python",
   "pygments_lexer": "ipython3",
   "version": "3.12.3"
  }
 },
 "nbformat": 4,
 "nbformat_minor": 5
}
