{
 "cells": [
  {
   "cell_type": "code",
   "execution_count": null,
   "id": "89ec8314-3727-42a0-ae7a-092b5aeae4cd",
   "metadata": {},
   "outputs": [],
   "source": [
    "Films = {\n",
    "    \"avengers infinity war\": [18, 5],\n",
    "    \"doctor strange\": [18, 4],\n",
    "    \"thor ragnarok\": [18, 3],\n",
    "    \"captain america civil war\": [18, 2],\n",
    "    \"avengers endgame\": [18, 9]\n",
    "}\n",
    "\n",
    "while True:\n",
    "    Choice_film = input(\"Enter Avengers Phase Three (2016-2019) movie name you'd like to watch: \").strip().lower()\n",
    "    if Choice_film in Films:\n",
    "        Age = int(input(\"How old are you?: \").strip())\n",
    "        if Age >= Films[Choice_film][0]:\n",
    "            print(\"Please enter payment details to book the movie.\")\n",
    "            User_ticket_count = int(input(\"Enter number of tickets: \").strip())\n",
    "            available_tickets = Films[Choice_film][1]\n",
    "            if User_ticket_count <= available_tickets:\n",
    "                print(f\"{User_ticket_count} ticket(s) successfully booked for {Choice_film}. Thank you!\")\n",
    "                Films[Choice_film][1] -= User_ticket_count\n",
    "            else:\n",
    "                print(\"Sorry, tickets are not available. Thank you.\")\n",
    "        else:\n",
    "            print(\"You are too young to see that film.\")\n",
    "            print(\"Thank you for your interest!\")\n",
    "    else:\n",
    "        print(f\"We don't have '{Choice_film}' at the moment. Thank you.\")\n",
    "    \n",
    "    # Add a condition to end the while loop\n",
    "    end_choice = input(\"Do you want to end? (yes/no): \").strip().lower()\n",
    "    if end_choice == \"yes\":\n",
    "        break\n"
   ]
  }
 ],
 "metadata": {
  "kernelspec": {
   "display_name": "Python 3 (ipykernel)",
   "language": "python",
   "name": "python3"
  },
  "language_info": {
   "codemirror_mode": {
    "name": "ipython",
    "version": 3
   },
   "file_extension": ".py",
   "mimetype": "text/x-python",
   "name": "python",
   "nbconvert_exporter": "python",
   "pygments_lexer": "ipython3",
   "version": "3.12.3"
  }
 },
 "nbformat": 4,
 "nbformat_minor": 5
}
